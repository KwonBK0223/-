{
 "cells": [
  {
   "cell_type": "code",
   "execution_count": 1,
   "id": "bdc407f2",
   "metadata": {
    "ExecuteTime": {
     "end_time": "2023-05-22T12:52:19.722584Z",
     "start_time": "2023-05-22T12:51:48.984797Z"
    }
   },
   "outputs": [],
   "source": [
    "# 라이브러리 import\n",
    "import pandas as pd\n",
    "import numpy as np\n",
    "import matplotlib.pyplot as plt\n",
    "import seaborn as sns\n",
    "\n",
    "from sklearn.model_selection import train_test_split\n",
    "from sklearn.preprocessing import MinMaxScaler\n",
    "from sklearn.metrics import confusion_matrix\n",
    "from sklearn.utils import shuffle\n",
    "\n",
    "import tensorflow as tf\n",
    "from keras.models import Sequential\n",
    "from keras.layers import Dense, Dropout, Flatten\n",
    "from keras.layers.convolutional import Conv2D, MaxPooling2D\n",
    "from keras.utils import np_utils\n",
    "\n",
    "import cv2\n",
    "\n",
    "import warnings\n",
    "warnings.filterwarnings('ignore')"
   ]
  },
  {
   "cell_type": "code",
   "execution_count": 2,
   "id": "a6ed28ff",
   "metadata": {
    "ExecuteTime": {
     "end_time": "2023-05-22T12:53:05.967750Z",
     "start_time": "2023-05-22T12:52:19.725546Z"
    }
   },
   "outputs": [],
   "source": [
    "# 데이터 받기\n",
    "data = pd.read_csv(r\"A_Z Handwritten Data.csv\").astype('float32')"
   ]
  },
  {
   "cell_type": "code",
   "execution_count": 3,
   "id": "53076cd1",
   "metadata": {
    "ExecuteTime": {
     "end_time": "2023-05-22T12:53:06.505361Z",
     "start_time": "2023-05-22T12:53:05.995676Z"
    }
   },
   "outputs": [
    {
     "name": "stdout",
     "output_type": "stream",
     "text": [
      "     0  0.1  0.2  0.3  0.4  0.5  0.6  0.7  0.8  0.9  ...  0.639  0.640  0.641  \\\n",
      "0  0.0  0.0  0.0  0.0  0.0  0.0  0.0  0.0  0.0  0.0  ...    0.0    0.0    0.0   \n",
      "1  0.0  0.0  0.0  0.0  0.0  0.0  0.0  0.0  0.0  0.0  ...    0.0    0.0    0.0   \n",
      "2  0.0  0.0  0.0  0.0  0.0  0.0  0.0  0.0  0.0  0.0  ...    0.0    0.0    0.0   \n",
      "3  0.0  0.0  0.0  0.0  0.0  0.0  0.0  0.0  0.0  0.0  ...    0.0    0.0    0.0   \n",
      "4  0.0  0.0  0.0  0.0  0.0  0.0  0.0  0.0  0.0  0.0  ...    0.0    0.0    0.0   \n",
      "\n",
      "   0.642  0.643  0.644  0.645  0.646  0.647  0.648  \n",
      "0    0.0    0.0    0.0    0.0    0.0    0.0    0.0  \n",
      "1    0.0    0.0    0.0    0.0    0.0    0.0    0.0  \n",
      "2    0.0    0.0    0.0    0.0    0.0    0.0    0.0  \n",
      "3    0.0    0.0    0.0    0.0    0.0    0.0    0.0  \n",
      "4    0.0    0.0    0.0    0.0    0.0    0.0    0.0  \n",
      "\n",
      "[5 rows x 785 columns]\n",
      "           0  0.1  0.2  0.3  0.4  0.5  0.6  0.7  0.8  0.9  ...  0.639  0.640  \\\n",
      "372445  25.0  0.0  0.0  0.0  0.0  0.0  0.0  0.0  0.0  0.0  ...    0.0    0.0   \n",
      "372446  25.0  0.0  0.0  0.0  0.0  0.0  0.0  0.0  0.0  0.0  ...    0.0    0.0   \n",
      "372447  25.0  0.0  0.0  0.0  0.0  0.0  0.0  0.0  0.0  0.0  ...    0.0    0.0   \n",
      "372448  25.0  0.0  0.0  0.0  0.0  0.0  0.0  0.0  0.0  0.0  ...    0.0    0.0   \n",
      "372449  25.0  0.0  0.0  0.0  0.0  0.0  0.0  0.0  0.0  0.0  ...    0.0    0.0   \n",
      "\n",
      "        0.641  0.642  0.643  0.644  0.645  0.646  0.647  0.648  \n",
      "372445    0.0    0.0    0.0    0.0    0.0    0.0    0.0    0.0  \n",
      "372446    0.0    0.0    0.0    0.0    0.0    0.0    0.0    0.0  \n",
      "372447    0.0    0.0    0.0    0.0    0.0    0.0    0.0    0.0  \n",
      "372448    0.0    0.0    0.0    0.0    0.0    0.0    0.0    0.0  \n",
      "372449    0.0    0.0    0.0    0.0    0.0    0.0    0.0    0.0  \n",
      "\n",
      "[5 rows x 785 columns]\n",
      "<class 'pandas.core.frame.DataFrame'>\n",
      "RangeIndex: 372450 entries, 0 to 372449\n",
      "Columns: 785 entries, 0 to 0.648\n",
      "dtypes: float32(785)\n",
      "memory usage: 1.1 GB\n",
      "None\n"
     ]
    }
   ],
   "source": [
    "# 데이터 확인\n",
    "print(data.head())\n",
    "print(data.tail())\n",
    "print(data.info())"
   ]
  },
  {
   "cell_type": "code",
   "execution_count": 4,
   "id": "6c84a135",
   "metadata": {
    "ExecuteTime": {
     "end_time": "2023-05-22T12:53:07.121641Z",
     "start_time": "2023-05-22T12:53:06.510318Z"
    }
   },
   "outputs": [],
   "source": [
    "# 데이터셋을 X와 y 로 나누기\n",
    "data.rename(columns={'0': 'label'}, inplace=True)\n",
    "X = data.drop('label', axis=1)\n",
    "y = data['label']"
   ]
  },
  {
   "cell_type": "code",
   "execution_count": 5,
   "id": "93205354",
   "metadata": {
    "ExecuteTime": {
     "end_time": "2023-05-22T12:53:07.136584Z",
     "start_time": "2023-05-22T12:53:07.123592Z"
    }
   },
   "outputs": [
    {
     "name": "stdout",
     "output_type": "stream",
     "text": [
      "(372450, 784) (372450,)\n"
     ]
    }
   ],
   "source": [
    "# 나눈 데이터 크기 확인\n",
    "print(X.shape, y.shape)"
   ]
  },
  {
   "cell_type": "code",
   "execution_count": 6,
   "id": "ceba7c52",
   "metadata": {
    "ExecuteTime": {
     "end_time": "2023-05-22T12:53:09.324806Z",
     "start_time": "2023-05-22T12:53:07.140548Z"
    }
   },
   "outputs": [],
   "source": [
    "# 데이터 셔플\n",
    "X_shuffle = shuffle(X)"
   ]
  },
  {
   "cell_type": "code",
   "execution_count": 7,
   "id": "2e5b0d63",
   "metadata": {
    "ExecuteTime": {
     "end_time": "2023-05-22T12:53:26.624784Z",
     "start_time": "2023-05-22T12:53:09.346752Z"
    }
   },
   "outputs": [
    {
     "data": {
      "image/png": "[encoded data removed]",
      "text/plain": [
       "<Figure size 720x720 with 1 Axes>"
      ]
     },
     "metadata": {
      "needs_background": "light"
     },
     "output_type": "display_data"
    }
   ],
   "source": [
    "# 데이터 내에 분포 확인\n",
    "alphabets = {0:'A', 1:'B',2:'C',3:'D',4:'E',5:'F',6:'G',\n",
    "             7:'H',8:'I',9:'J',10:'K',11:'L',12:'M',13:'N',\n",
    "             14:'O',15:'P',16:'Q',17:'R',18:'S',19:'T',\n",
    "             20:'U',21:'V',22:'W',23:'X',24:'Y',25:'Z'}\n",
    "dataset_alphabets = data.copy()\n",
    "data['label'] = data['label'].map(alphabets)\n",
    "\n",
    "label_size = data.groupby('label').size()\n",
    "label_size.plot.barh(figsize=(10, 10))\n",
    "plt.title('Labels observations')\n",
    "plt.show()"
   ]
  },
  {
   "cell_type": "code",
   "execution_count": 8,
   "id": "60a362e1",
   "metadata": {
    "ExecuteTime": {
     "end_time": "2023-05-22T12:53:45.382052Z",
     "start_time": "2023-05-22T12:53:26.638745Z"
    }
   },
   "outputs": [
    {
     "data": {
      "text/plain": [
       "array([0., 0., 0., 0., 0., 0., 0., 0., 0., 0.], dtype=float32)"
      ]
     },
     "execution_count": 8,
     "metadata": {},
     "output_type": "execute_result"
    }
   ],
   "source": [
    "# 데이터 스케일링\n",
    "X_train, X_test, y_train, y_test = train_test_split(X, y)\n",
    "scaler = MinMaxScaler()\n",
    "train_scaled = scaler.fit_transform(X_train)\n",
    "test_scaled = scaler.transform(X_test)\n",
    "train_scaled[0][:10]"
   ]
  },
  {
   "cell_type": "code",
   "execution_count": 9,
   "id": "100a2244",
   "metadata": {
    "ExecuteTime": {
     "end_time": "2023-05-22T12:53:48.151051Z",
     "start_time": "2023-05-22T12:53:45.413496Z"
    }
   },
   "outputs": [],
   "source": [
    "# 데이터 reshape\n",
    "train_scaled = train_scaled.reshape(X_train.shape[0], 28, 28, 1).astype('float32')\n",
    "test_scaled = test_scaled.reshape(X_test.shape[0], 28, 28, 1).astype('float32')"
   ]
  },
  {
   "cell_type": "code",
   "execution_count": 10,
   "id": "4b2f907b",
   "metadata": {
    "ExecuteTime": {
     "end_time": "2023-05-22T12:53:48.257393Z",
     "start_time": "2023-05-22T12:53:48.171000Z"
    }
   },
   "outputs": [],
   "source": [
    "# y 데이터 convert\n",
    "y_train = np_utils.to_categorical(y_train)\n",
    "y_test = np_utils.to_categorical(y_test)"
   ]
  },
  {
   "cell_type": "code",
   "execution_count": 26,
   "id": "0ed2a05e",
   "metadata": {
    "ExecuteTime": {
     "end_time": "2023-05-22T13:20:35.738486Z",
     "start_time": "2023-05-22T13:20:35.573922Z"
    },
    "scrolled": false
   },
   "outputs": [
    {
     "name": "stdout",
     "output_type": "stream",
     "text": [
      "Model: \"sequential_5\"\n",
      "_________________________________________________________________\n",
      " Layer (type)                Output Shape              Param #   \n",
      "=================================================================\n",
      " conv2d_14 (Conv2D)          (None, 24, 24, 32)        832       \n",
      "                                                                 \n",
      " batch_normalization_4 (Batc  (None, 24, 24, 32)       128       \n",
      " hNormalization)                                                 \n",
      "                                                                 \n",
      " max_pooling2d_13 (MaxPoolin  (None, 12, 12, 32)       0         \n",
      " g2D)                                                            \n",
      "                                                                 \n",
      " conv2d_15 (Conv2D)          (None, 10, 10, 32)        9248      \n",
      "                                                                 \n",
      " max_pooling2d_14 (MaxPoolin  (None, 5, 5, 32)         0         \n",
      " g2D)                                                            \n",
      "                                                                 \n",
      " conv2d_16 (Conv2D)          (None, 3, 3, 32)          9248      \n",
      "                                                                 \n",
      " batch_normalization_5 (Batc  (None, 3, 3, 32)         128       \n",
      " hNormalization)                                                 \n",
      "                                                                 \n",
      " max_pooling2d_15 (MaxPoolin  (None, 1, 1, 32)         0         \n",
      " g2D)                                                            \n",
      "                                                                 \n",
      " dropout_4 (Dropout)         (None, 1, 1, 32)          0         \n",
      "                                                                 \n",
      " flatten_4 (Flatten)         (None, 32)                0         \n",
      "                                                                 \n",
      " dense_8 (Dense)             (None, 128)               4224      \n",
      "                                                                 \n",
      " dense_9 (Dense)             (None, 26)                3354      \n",
      "                                                                 \n",
      "=================================================================\n",
      "Total params: 27,162\n",
      "Trainable params: 27,034\n",
      "Non-trainable params: 128\n",
      "_________________________________________________________________\n"
     ]
    }
   ],
   "source": [
    "from keras.layers import BatchNormalization\n",
    "from keras.preprocessing.image import ImageDataGenerator\n",
    "\n",
    "# 데이터 증강 설정\n",
    "datagen = ImageDataGenerator(\n",
    "    rotation_range=10,  # 회전 범위 설정\n",
    "    width_shift_range=0.1,  # 가로 이동 범위 설정\n",
    "    height_shift_range=0.1,  # 세로 이동 범위 설정\n",
    "    shear_range=0.2,  # 전단 변형 범위 설정\n",
    "    zoom_range=0.2  # 확대/축소 범위 설정\n",
    ")\n",
    "\n",
    "# CNN 모델링\n",
    "model = Sequential()\n",
    "model.add(Conv2D(32, (5, 5), input_shape=(28, 28, 1), activation='relu'))\n",
    "model.add(BatchNormalization())  # 배치 정규화 추가\n",
    "model.add(MaxPooling2D(pool_size=(2, 2)))\n",
    "\n",
    "#합성곱 층과 풀링 층 추가\n",
    "model.add(Conv2D(32, (3, 3), activation='relu'))\n",
    "model.add(MaxPooling2D(pool_size=(2, 2)))\n",
    "\n",
    "# 추가된 합성곱 층과 배치 정규화\n",
    "model.add(Conv2D(32, (3, 3), activation='relu'))\n",
    "model.add(BatchNormalization())  # 배치 정규화 추가\n",
    "model.add(MaxPooling2D(pool_size=(2, 2)))\n",
    "\n",
    "model.add(Dropout(0.3))\n",
    "model.add(Flatten())\n",
    "model.add(Dense(128, activation='relu'))\n",
    "model.add(Dense(len(y.unique()), activation='softmax'))\n",
    "\n",
    "# 하이퍼파라미터 튜닝\n",
    "learning_rate = 0.001  # 학습률 설정\n",
    "batch_size = 128  # 배치 크기 설정\n",
    "dropout_rate = 0.4  # 드롭아웃 비율 설정\n",
    "\n",
    "model.compile(loss='categorical_crossentropy', optimizer='adam', metrics=['accuracy'])\n",
    "model.summary()"
   ]
  },
  {
   "cell_type": "code",
   "execution_count": 29,
   "id": "5b0161a6",
   "metadata": {
    "ExecuteTime": {
     "end_time": "2023-05-22T13:57:16.507882Z",
     "start_time": "2023-05-22T13:22:35.486334Z"
    }
   },
   "outputs": [
    {
     "name": "stdout",
     "output_type": "stream",
     "text": [
      "Epoch 1/10\n",
      "2182/2182 [==============================] - 223s 102ms/step - loss: 0.5550 - accuracy: 0.8369 - val_loss: 0.1291 - val_accuracy: 0.9635\n",
      "Epoch 2/10\n",
      "2182/2182 [==============================] - 215s 98ms/step - loss: 0.2651 - accuracy: 0.9221 - val_loss: 0.1016 - val_accuracy: 0.9718\n",
      "Epoch 3/10\n",
      "2182/2182 [==============================] - 198s 91ms/step - loss: 0.2241 - accuracy: 0.9343 - val_loss: 0.1012 - val_accuracy: 0.9715\n",
      "Epoch 4/10\n",
      "2182/2182 [==============================] - 198s 91ms/step - loss: 0.1993 - accuracy: 0.9421 - val_loss: 0.0909 - val_accuracy: 0.9742\n",
      "Epoch 5/10\n",
      "2182/2182 [==============================] - 196s 90ms/step - loss: 0.1856 - accuracy: 0.9465 - val_loss: 0.0801 - val_accuracy: 0.9771\n",
      "Epoch 6/10\n",
      "2182/2182 [==============================] - 209s 96ms/step - loss: 0.1767 - accuracy: 0.9489 - val_loss: 0.0801 - val_accuracy: 0.9775\n",
      "Epoch 7/10\n",
      "2182/2182 [==============================] - 217s 100ms/step - loss: 0.1673 - accuracy: 0.9515 - val_loss: 0.0674 - val_accuracy: 0.9815\n",
      "Epoch 8/10\n",
      "2182/2182 [==============================] - 206s 94ms/step - loss: 0.1641 - accuracy: 0.9524 - val_loss: 0.0657 - val_accuracy: 0.9825\n",
      "Epoch 9/10\n",
      "2182/2182 [==============================] - 217s 100ms/step - loss: 0.1602 - accuracy: 0.9537 - val_loss: 0.0797 - val_accuracy: 0.9779\n",
      "Epoch 10/10\n",
      "2182/2182 [==============================] - 200s 92ms/step - loss: 0.1561 - accuracy: 0.9549 - val_loss: 0.0661 - val_accuracy: 0.9822\n"
     ]
    }
   ],
   "source": [
    "# CNN 학습\n",
    "X_train_array = np.array(X_train)\n",
    "X_test_array = np.array(X_test)\n",
    "\n",
    "history = model.fit(datagen.flow(X_train_array.reshape(-1, 28, 28, 1), y_train, batch_size=batch_size),\n",
    "          steps_per_epoch=len(X_train) // batch_size,\n",
    "          epochs=10,\n",
    "          validation_data=(X_test_array.reshape(-1, 28, 28, 1), y_test))"
   ]
  },
  {
   "cell_type": "code",
   "execution_count": 37,
   "id": "ca26040b",
   "metadata": {
    "ExecuteTime": {
     "end_time": "2023-05-22T14:00:00.680443Z",
     "start_time": "2023-05-22T14:00:00.513888Z"
    }
   },
   "outputs": [
    {
     "data": {
      "image/png": "[encoded data removed]",
      "text/plain": [
       "<Figure size 432x288 with 1 Axes>"
      ]
     },
     "metadata": {
      "needs_background": "light"
     },
     "output_type": "display_data"
    }
   ],
   "source": [
    "# loss 값 추적\n",
    "train_loss = history.history['loss']\n",
    "val_loss = history.history['val_loss']\n",
    "epochs = range(1, len(train_loss) + 1)\n",
    "\n",
    "# loss 값 시각화\n",
    "plt.plot(epochs, train_loss, 'b', label='Training Loss')\n",
    "plt.plot(epochs, val_loss, 'g', label='Validation Loss')\n",
    "plt.title('Training and Validation Loss')\n",
    "plt.xlabel('Epochs')\n",
    "plt.ylabel('Loss')\n",
    "plt.legend()\n",
    "plt.show()"
   ]
  },
  {
   "cell_type": "code",
   "execution_count": 38,
   "id": "7cb6ce58",
   "metadata": {
    "ExecuteTime": {
     "end_time": "2023-05-22T14:00:47.114575Z",
     "start_time": "2023-05-22T14:00:46.964729Z"
    }
   },
   "outputs": [],
   "source": [
    "from keras.models import save_model\n",
    "\n",
    "# 모델 저장\n",
    "save_model(model, 'main_CNN_ver2.h5')"
   ]
  }
 ],
 "metadata": {
  "kernelspec": {
   "display_name": "Python 3 (ipykernel)",
   "language": "python",
   "name": "python3"
  },
  "language_info": {
   "codemirror_mode": {
    "name": "ipython",
    "version": 3
   },
   "file_extension": ".py",
   "mimetype": "text/x-python",
   "name": "python",
   "nbconvert_exporter": "python",
   "pygments_lexer": "ipython3",
   "version": "3.9.12"
  },
  "toc": {
   "base_numbering": 1,
   "nav_menu": {},
   "number_sections": false,
   "sideBar": true,
   "skip_h1_title": false,
   "title_cell": "Table of Contents",
   "title_sidebar": "Contents",
   "toc_cell": false,
   "toc_position": {},
   "toc_section_display": true,
   "toc_window_display": false
  },
  "varInspector": {
   "cols": {
    "lenName": 16,
    "lenType": 16,
    "lenVar": 40
   },
   "kernels_config": {
    "python": {
     "delete_cmd_postfix": "",
     "delete_cmd_prefix": "del ",
     "library": "var_list.py",
     "varRefreshCmd": "print(var_dic_list())"
    },
    "r": {
     "delete_cmd_postfix": ") ",
     "delete_cmd_prefix": "rm(",
     "library": "var_list.r",
     "varRefreshCmd": "cat(var_dic_list()) "
    }
   },
   "types_to_exclude": [
    "module",
    "function",
    "builtin_function_or_method",
    "instance",
    "_Feature"
   ],
   "window_display": false
  }
 },
 "nbformat": 4,
 "nbformat_minor": 5
}
