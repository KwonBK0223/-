{
 "cells": [
  {
   "cell_type": "code",
   "execution_count": 1,
   "id": "bdc407f2",
   "metadata": {
    "ExecuteTime": {
     "end_time": "2023-05-02T07:25:11.365543Z",
     "start_time": "2023-05-02T07:24:52.045342Z"
    }
   },
   "outputs": [],
   "source": [
    "# 라이브러리 import\n",
    "import pandas as pd\n",
    "import numpy as np\n",
    "import matplotlib.pyplot as plt\n",
    "import seaborn as sns\n",
    "\n",
    "from sklearn.model_selection import train_test_split\n",
    "from sklearn.preprocessing import MinMaxScaler\n",
    "from sklearn.metrics import confusion_matrix\n",
    "from sklearn.utils import shuffle\n",
    "\n",
    "import tensorflow as tf\n",
    "from keras.models import Sequential\n",
    "from keras.layers import Dense, Dropout, Flatten\n",
    "from keras.layers.convolutional import Conv2D, MaxPooling2D\n",
    "from keras.utils import np_utils\n",
    "\n",
    "import cv2\n",
    "\n",
    "import warnings\n",
    "warnings.filterwarnings('ignore')"
   ]
  },
  {
   "cell_type": "code",
   "execution_count": 2,
   "id": "a6ed28ff",
   "metadata": {
    "ExecuteTime": {
     "end_time": "2023-05-02T07:25:40.920157Z",
     "start_time": "2023-05-02T07:25:11.365543Z"
    }
   },
   "outputs": [],
   "source": [
    "# 데이터 받기\n",
    "data = pd.read_csv(r\"A_Z Handwritten Data.csv\").astype('float32')"
   ]
  },
  {
   "cell_type": "code",
   "execution_count": 3,
   "id": "53076cd1",
   "metadata": {
    "ExecuteTime": {
     "end_time": "2023-05-02T07:25:41.194352Z",
     "start_time": "2023-05-02T07:25:40.933122Z"
    }
   },
   "outputs": [
    {
     "name": "stdout",
     "output_type": "stream",
     "text": [
      "     0  0.1  0.2  0.3  0.4  0.5  0.6  0.7  0.8  0.9  ...  0.639  0.640  0.641  \\\n",
      "0  0.0  0.0  0.0  0.0  0.0  0.0  0.0  0.0  0.0  0.0  ...    0.0    0.0    0.0   \n",
      "1  0.0  0.0  0.0  0.0  0.0  0.0  0.0  0.0  0.0  0.0  ...    0.0    0.0    0.0   \n",
      "2  0.0  0.0  0.0  0.0  0.0  0.0  0.0  0.0  0.0  0.0  ...    0.0    0.0    0.0   \n",
      "3  0.0  0.0  0.0  0.0  0.0  0.0  0.0  0.0  0.0  0.0  ...    0.0    0.0    0.0   \n",
      "4  0.0  0.0  0.0  0.0  0.0  0.0  0.0  0.0  0.0  0.0  ...    0.0    0.0    0.0   \n",
      "\n",
      "   0.642  0.643  0.644  0.645  0.646  0.647  0.648  \n",
      "0    0.0    0.0    0.0    0.0    0.0    0.0    0.0  \n",
      "1    0.0    0.0    0.0    0.0    0.0    0.0    0.0  \n",
      "2    0.0    0.0    0.0    0.0    0.0    0.0    0.0  \n",
      "3    0.0    0.0    0.0    0.0    0.0    0.0    0.0  \n",
      "4    0.0    0.0    0.0    0.0    0.0    0.0    0.0  \n",
      "\n",
      "[5 rows x 785 columns]\n",
      "           0  0.1  0.2  0.3  0.4  0.5  0.6  0.7  0.8  0.9  ...  0.639  0.640  \\\n",
      "372445  25.0  0.0  0.0  0.0  0.0  0.0  0.0  0.0  0.0  0.0  ...    0.0    0.0   \n",
      "372446  25.0  0.0  0.0  0.0  0.0  0.0  0.0  0.0  0.0  0.0  ...    0.0    0.0   \n",
      "372447  25.0  0.0  0.0  0.0  0.0  0.0  0.0  0.0  0.0  0.0  ...    0.0    0.0   \n",
      "372448  25.0  0.0  0.0  0.0  0.0  0.0  0.0  0.0  0.0  0.0  ...    0.0    0.0   \n",
      "372449  25.0  0.0  0.0  0.0  0.0  0.0  0.0  0.0  0.0  0.0  ...    0.0    0.0   \n",
      "\n",
      "        0.641  0.642  0.643  0.644  0.645  0.646  0.647  0.648  \n",
      "372445    0.0    0.0    0.0    0.0    0.0    0.0    0.0    0.0  \n",
      "372446    0.0    0.0    0.0    0.0    0.0    0.0    0.0    0.0  \n",
      "372447    0.0    0.0    0.0    0.0    0.0    0.0    0.0    0.0  \n",
      "372448    0.0    0.0    0.0    0.0    0.0    0.0    0.0    0.0  \n",
      "372449    0.0    0.0    0.0    0.0    0.0    0.0    0.0    0.0  \n",
      "\n",
      "[5 rows x 785 columns]\n",
      "<class 'pandas.core.frame.DataFrame'>\n",
      "RangeIndex: 372450 entries, 0 to 372449\n",
      "Columns: 785 entries, 0 to 0.648\n",
      "dtypes: float32(785)\n",
      "memory usage: 1.1 GB\n",
      "None\n"
     ]
    }
   ],
   "source": [
    "# 데이터 확인\n",
    "print(data.head())\n",
    "print(data.tail())\n",
    "print(data.info())"
   ]
  },
  {
   "cell_type": "code",
   "execution_count": 4,
   "id": "6c84a135",
   "metadata": {
    "ExecuteTime": {
     "end_time": "2023-05-02T07:25:41.759657Z",
     "start_time": "2023-05-02T07:25:41.201310Z"
    }
   },
   "outputs": [],
   "source": [
    "# 데이터셋을 X와 y 로 나누기\n",
    "data.rename(columns={'0': 'label'}, inplace=True)\n",
    "X = data.drop('label', axis=1)\n",
    "y = data['label']"
   ]
  },
  {
   "cell_type": "code",
   "execution_count": 5,
   "id": "93205354",
   "metadata": {
    "ExecuteTime": {
     "end_time": "2023-05-02T07:25:41.774622Z",
     "start_time": "2023-05-02T07:25:41.762653Z"
    }
   },
   "outputs": [
    {
     "name": "stdout",
     "output_type": "stream",
     "text": [
      "(372450, 784) (372450,)\n"
     ]
    }
   ],
   "source": [
    "# 나눈 데이터 크기 확인\n",
    "print(X.shape, y.shape)"
   ]
  },
  {
   "cell_type": "code",
   "execution_count": 6,
   "id": "ceba7c52",
   "metadata": {
    "ExecuteTime": {
     "end_time": "2023-05-02T07:25:45.558604Z",
     "start_time": "2023-05-02T07:25:41.777610Z"
    }
   },
   "outputs": [],
   "source": [
    "# 데이터 셔플\n",
    "X_shuffle = shuffle(X)"
   ]
  },
  {
   "cell_type": "code",
   "execution_count": 7,
   "id": "f134c0c9",
   "metadata": {
    "ExecuteTime": {
     "end_time": "2023-05-02T07:25:48.241754Z",
     "start_time": "2023-05-02T07:25:45.561594Z"
    }
   },
   "outputs": [
    {
     "data": {
      "image/png": "[encoded data removed]",
      "text/plain": [
       "<Figure size 864x720 with 16 Axes>"
      ]
     },
     "metadata": {
      "needs_background": "light"
     },
     "output_type": "display_data"
    }
   ],
   "source": [
    "# 데이터 시각화 해서 확인 해보기\n",
    "plt.figure(figsize=(12, 10))\n",
    "row, columns = 4, 4\n",
    "for i in range(16):\n",
    "    plt.subplot (columns, row, i+1)\n",
    "    plt.imshow(X_shuffle.iloc[i].values.reshape(28, 28), interpolation='nearest', cmap='Greys')\n",
    "plt.show()"
   ]
  },
  {
   "cell_type": "code",
   "execution_count": 8,
   "id": "2e5b0d63",
   "metadata": {
    "ExecuteTime": {
     "end_time": "2023-05-02T07:25:52.616110Z",
     "start_time": "2023-05-02T07:25:48.244748Z"
    }
   },
   "outputs": [
    {
     "data": {
      "image/png": "[encoded data removed]",
      "text/plain": [
       "<Figure size 720x720 with 1 Axes>"
      ]
     },
     "metadata": {
      "needs_background": "light"
     },
     "output_type": "display_data"
    }
   ],
   "source": [
    "# 데이터 내에 분포 확인\n",
    "alphabets = {0:'A', 1:'B',2:'C',3:'D',4:'E',5:'F',6:'G',\n",
    "             7:'H',8:'I',9:'J',10:'K',11:'L',12:'M',13:'N',\n",
    "             14:'O',15:'P',16:'Q',17:'R',18:'S',19:'T',\n",
    "             20:'U',21:'V',22:'W',23:'X',24:'Y',25:'Z'}\n",
    "dataset_alphabets = data.copy()\n",
    "data['label'] = data['label'].map(alphabets)\n",
    "\n",
    "label_size = data.groupby('label').size()\n",
    "label_size.plot.barh(figsize=(10, 10))\n",
    "plt.title('Labels observations')\n",
    "plt.show()"
   ]
  },
  {
   "cell_type": "code",
   "execution_count": 9,
   "id": "60a362e1",
   "metadata": {
    "ExecuteTime": {
     "end_time": "2023-05-02T07:25:59.814351Z",
     "start_time": "2023-05-02T07:25:52.616821Z"
    }
   },
   "outputs": [
    {
     "data": {
      "text/plain": [
       "array([0., 0., 0., 0., 0., 0., 0., 0., 0., 0.], dtype=float32)"
      ]
     },
     "execution_count": 9,
     "metadata": {},
     "output_type": "execute_result"
    }
   ],
   "source": [
    "# 데이터 스케일링\n",
    "X_train, X_test, y_train, y_test = train_test_split(X, y)\n",
    "scaler = MinMaxScaler()\n",
    "train_scaled = scaler.fit_transform(X_train)\n",
    "test_scaled = scaler.transform(X_test)\n",
    "train_scaled[0][:10]"
   ]
  },
  {
   "cell_type": "code",
   "execution_count": 10,
   "id": "100a2244",
   "metadata": {
    "ExecuteTime": {
     "end_time": "2023-05-02T07:26:01.522960Z",
     "start_time": "2023-05-02T07:25:59.845592Z"
    }
   },
   "outputs": [],
   "source": [
    "# 데이터 reshape\n",
    "train_scaled = train_scaled.reshape(X_train.shape[0], 28, 28, 1).astype('float32')\n",
    "test_scaled = test_scaled.reshape(X_test.shape[0], 28, 28, 1).astype('float32')"
   ]
  },
  {
   "cell_type": "code",
   "execution_count": 11,
   "id": "4b2f907b",
   "metadata": {
    "ExecuteTime": {
     "end_time": "2023-05-02T07:26:01.585446Z",
     "start_time": "2023-05-02T07:26:01.522960Z"
    }
   },
   "outputs": [],
   "source": [
    "# y 데이터 convert\n",
    "y_train = np_utils.to_categorical(y_train)\n",
    "y_test = np_utils.to_categorical(y_test)"
   ]
  },
  {
   "cell_type": "code",
   "execution_count": 12,
   "id": "0ed2a05e",
   "metadata": {
    "ExecuteTime": {
     "end_time": "2023-05-02T07:26:03.044337Z",
     "start_time": "2023-05-02T07:26:01.585446Z"
    }
   },
   "outputs": [
    {
     "name": "stdout",
     "output_type": "stream",
     "text": [
      "Model: \"sequential\"\n",
      "_________________________________________________________________\n",
      " Layer (type)                Output Shape              Param #   \n",
      "=================================================================\n",
      " conv2d (Conv2D)             (None, 24, 24, 32)        832       \n",
      "                                                                 \n",
      " max_pooling2d (MaxPooling2D  (None, 12, 12, 32)       0         \n",
      " )                                                               \n",
      "                                                                 \n",
      " dropout (Dropout)           (None, 12, 12, 32)        0         \n",
      "                                                                 \n",
      " flatten (Flatten)           (None, 4608)              0         \n",
      "                                                                 \n",
      " dense (Dense)               (None, 128)               589952    \n",
      "                                                                 \n",
      " dense_1 (Dense)             (None, 26)                3354      \n",
      "                                                                 \n",
      "=================================================================\n",
      "Total params: 594,138\n",
      "Trainable params: 594,138\n",
      "Non-trainable params: 0\n",
      "_________________________________________________________________\n"
     ]
    }
   ],
   "source": [
    "# CNN 모델링\n",
    "model = Sequential()\n",
    "model.add(Conv2D(32, (5, 5), input_shape=(28, 28, 1), \n",
    "                 activation='relu'))\n",
    "model.add(MaxPooling2D(pool_size=(2, 2)))\n",
    "model.add(Dropout(0.3))\n",
    "model.add(Flatten())\n",
    "model.add(Dense(128, activation='relu'))\n",
    "model.add(Dense(len(y.unique()), activation='softmax'))\n",
    "\n",
    "model.compile(loss='categorical_crossentropy',\n",
    "              optimizer='adam', metrics=['accuracy'])\n",
    "model.summary()"
   ]
  },
  {
   "cell_type": "code",
   "execution_count": 13,
   "id": "5b0161a6",
   "metadata": {
    "ExecuteTime": {
     "end_time": "2023-05-02T07:33:04.250818Z",
     "start_time": "2023-05-02T07:26:03.047329Z"
    }
   },
   "outputs": [
    {
     "name": "stdout",
     "output_type": "stream",
     "text": [
      "Epoch 1/5\n",
      "1397/1397 - 97s - loss: 0.2367 - accuracy: 0.9345 - val_loss: 0.1022 - val_accuracy: 0.9727 - 97s/epoch - 69ms/step\n",
      "Epoch 2/5\n",
      "1397/1397 - 80s - loss: 0.0894 - accuracy: 0.9748 - val_loss: 0.0789 - val_accuracy: 0.9794 - 80s/epoch - 58ms/step\n",
      "Epoch 3/5\n",
      "1397/1397 - 83s - loss: 0.0680 - accuracy: 0.9804 - val_loss: 0.0634 - val_accuracy: 0.9836 - 83s/epoch - 60ms/step\n",
      "Epoch 4/5\n",
      "1397/1397 - 80s - loss: 0.0547 - accuracy: 0.9840 - val_loss: 0.0573 - val_accuracy: 0.9861 - 80s/epoch - 57ms/step\n",
      "Epoch 5/5\n",
      "1397/1397 - 77s - loss: 0.0453 - accuracy: 0.9864 - val_loss: 0.0554 - val_accuracy: 0.9874 - 77s/epoch - 55ms/step\n"
     ]
    }
   ],
   "source": [
    "# CNN 학습\n",
    "history = model.fit(train_scaled, y_train, validation_data=(test_scaled, y_test), epochs=5, batch_size=200, verbose=2)"
   ]
  },
  {
   "cell_type": "code",
   "execution_count": 14,
   "id": "9bd7ede6",
   "metadata": {
    "ExecuteTime": {
     "end_time": "2023-05-02T07:33:13.726965Z",
     "start_time": "2023-05-02T07:33:04.253942Z"
    }
   },
   "outputs": [
    {
     "name": "stdout",
     "output_type": "stream",
     "text": [
      "CNN score:  0.9874346256256104\n"
     ]
    }
   ],
   "source": [
    "# CNN score\n",
    "scores = model.evaluate(test_scaled, y_test, verbose=0)\n",
    "print('CNN score: ', scores[1])"
   ]
  },
  {
   "cell_type": "code",
   "execution_count": 15,
   "id": "ca26040b",
   "metadata": {
    "ExecuteTime": {
     "end_time": "2023-05-02T07:33:14.042168Z",
     "start_time": "2023-05-02T07:33:13.738969Z"
    }
   },
   "outputs": [
    {
     "data": {
      "image/png": "[encoded data removed]",
      "text/plain": [
       "<Figure size 432x288 with 1 Axes>"
      ]
     },
     "metadata": {
      "needs_background": "light"
     },
     "output_type": "display_data"
    }
   ],
   "source": [
    "# loss 값 시각화\n",
    "plt.plot(history.history['loss'])\n",
    "plt.plot(history.history['val_loss'])\n",
    "plt.title('Model loss')\n",
    "plt.xlabel('Epoch')\n",
    "plt.ylabel('Loss')\n",
    "plt.legend(['Train', 'Test'])\n",
    "plt.show()"
   ]
  },
  {
   "cell_type": "markdown",
   "id": "17bf4819",
   "metadata": {},
   "source": [
    "### 예측"
   ]
  },
  {
   "cell_type": "code",
   "execution_count": 16,
   "id": "0f4edc39",
   "metadata": {
    "ExecuteTime": {
     "end_time": "2023-05-02T07:33:14.108932Z",
     "start_time": "2023-05-02T07:33:14.043314Z"
    }
   },
   "outputs": [],
   "source": [
    "# 예측할 이미지 불러오기\n",
    "img_path = 'TEST_BLACK\\A.jpg'\n",
    "img = cv2.imread(img_path)"
   ]
  },
  {
   "cell_type": "code",
   "execution_count": 17,
   "id": "baeb7480",
   "metadata": {
    "ExecuteTime": {
     "end_time": "2023-05-02T07:33:14.142250Z",
     "start_time": "2023-05-02T07:33:14.110489Z"
    }
   },
   "outputs": [],
   "source": [
    "# 불러온 이미지를 모델에 적용할 수있게 변환\n",
    "img = cv2.cvtColor(img, cv2.COLOR_BGR2GRAY)\n",
    "img = cv2.resize(img, (28, 28))\n",
    "img = img.reshape(1, 28, 28, 1) / 255.0"
   ]
  },
  {
   "cell_type": "code",
   "execution_count": 18,
   "id": "6a3e8035",
   "metadata": {
    "ExecuteTime": {
     "end_time": "2023-05-02T07:33:14.342175Z",
     "start_time": "2023-05-02T07:33:14.143100Z"
    }
   },
   "outputs": [
    {
     "name": "stdout",
     "output_type": "stream",
     "text": [
      "1/1 [==============================] - 0s 125ms/step\n"
     ]
    }
   ],
   "source": [
    "# 예측\n",
    "predictions = model.predict(img)"
   ]
  },
  {
   "cell_type": "code",
   "execution_count": 19,
   "id": "4d53f2cc",
   "metadata": {
    "ExecuteTime": {
     "end_time": "2023-05-02T07:33:14.361856Z",
     "start_time": "2023-05-02T07:33:14.344295Z"
    }
   },
   "outputs": [
    {
     "name": "stdout",
     "output_type": "stream",
     "text": [
      "Predicted Label: A\n"
     ]
    }
   ],
   "source": [
    "# 예측 결과 출력\n",
    "predicted_label = np.argmax(predictions, axis=1)\n",
    "predicted_alphabet = alphabets[predicted_label[0]]\n",
    "print('Predicted Label:', predicted_alphabet)"
   ]
  },
  {
   "cell_type": "code",
   "execution_count": 20,
   "id": "c3319ab6",
   "metadata": {
    "ExecuteTime": {
     "end_time": "2023-05-02T07:33:14.456172Z",
     "start_time": "2023-05-02T07:33:14.363725Z"
    }
   },
   "outputs": [],
   "source": [
    "# 입력 이미지 출력\n",
    "img_input = cv2.resize(cv2.imread(img_path), (400, 440))\n",
    "cv2.imshow('Input Image', img_input)"
   ]
  },
  {
   "cell_type": "code",
   "execution_count": 21,
   "id": "42574657",
   "metadata": {
    "ExecuteTime": {
     "end_time": "2023-05-02T07:33:14.495530Z",
     "start_time": "2023-05-02T07:33:14.458133Z"
    }
   },
   "outputs": [
    {
     "data": {
      "text/plain": [
       "array([[[1, 1, 1],\n",
       "        [1, 1, 1],\n",
       "        [1, 1, 1],\n",
       "        ...,\n",
       "        [1, 1, 1],\n",
       "        [1, 1, 1],\n",
       "        [1, 1, 1]],\n",
       "\n",
       "       [[1, 1, 1],\n",
       "        [1, 1, 1],\n",
       "        [1, 1, 1],\n",
       "        ...,\n",
       "        [1, 1, 1],\n",
       "        [1, 1, 1],\n",
       "        [1, 1, 1]],\n",
       "\n",
       "       [[1, 1, 1],\n",
       "        [1, 1, 1],\n",
       "        [1, 1, 1],\n",
       "        ...,\n",
       "        [1, 1, 1],\n",
       "        [1, 1, 1],\n",
       "        [1, 1, 1]],\n",
       "\n",
       "       ...,\n",
       "\n",
       "       [[1, 1, 1],\n",
       "        [1, 1, 1],\n",
       "        [1, 1, 1],\n",
       "        ...,\n",
       "        [1, 1, 1],\n",
       "        [1, 1, 1],\n",
       "        [1, 1, 1]],\n",
       "\n",
       "       [[1, 1, 1],\n",
       "        [1, 1, 1],\n",
       "        [1, 1, 1],\n",
       "        ...,\n",
       "        [1, 1, 1],\n",
       "        [1, 1, 1],\n",
       "        [1, 1, 1]],\n",
       "\n",
       "       [[1, 1, 1],\n",
       "        [1, 1, 1],\n",
       "        [1, 1, 1],\n",
       "        ...,\n",
       "        [1, 1, 1],\n",
       "        [1, 1, 1],\n",
       "        [1, 1, 1]]], dtype=uint8)"
      ]
     },
     "execution_count": 21,
     "metadata": {},
     "output_type": "execute_result"
    }
   ],
   "source": [
    "# 예측결과 출력\n",
    "text = f'Prediction: {predicted_alphabet}'\n",
    "font = cv2.FONT_HERSHEY_SIMPLEX\n",
    "font_scale = 1\n",
    "thickness = 2\n",
    "text_size, _ = cv2.getTextSize(text, font, font_scale, thickness)\n",
    "text_width, text_height = text_size\n",
    "text_x = int(img_input.shape[1] / 2 - text_width / 2)\n",
    "text_y = img_input.shape[0] - text_height - 10\n",
    "cv2.putText(img_input, text, (text_x, text_y), font, font_scale, (0, 255, 0), thickness)"
   ]
  },
  {
   "cell_type": "code",
   "execution_count": 22,
   "id": "c473a454",
   "metadata": {
    "ExecuteTime": {
     "end_time": "2023-05-02T07:37:11.524317Z",
     "start_time": "2023-05-02T07:33:14.497015Z"
    }
   },
   "outputs": [
    {
     "ename": "KeyboardInterrupt",
     "evalue": "",
     "output_type": "error",
     "traceback": [
      "\u001b[1;31m---------------------------------------------------------------------------\u001b[0m",
      "\u001b[1;31mKeyboardInterrupt\u001b[0m                         Traceback (most recent call last)",
      "Input \u001b[1;32mIn [22]\u001b[0m, in \u001b[0;36m<cell line: 4>\u001b[1;34m()\u001b[0m\n\u001b[0;32m      1\u001b[0m \u001b[38;5;66;03m# 이미지 출력\u001b[39;00m\n\u001b[0;32m      2\u001b[0m cv2\u001b[38;5;241m.\u001b[39mimshow(\u001b[38;5;124m'\u001b[39m\u001b[38;5;124mOutput Image\u001b[39m\u001b[38;5;124m'\u001b[39m, img_input)\n\u001b[1;32m----> 4\u001b[0m \u001b[43mcv2\u001b[49m\u001b[38;5;241;43m.\u001b[39;49m\u001b[43mwaitKey\u001b[49m\u001b[43m(\u001b[49m\u001b[38;5;241;43m0\u001b[39;49m\u001b[43m)\u001b[49m\n\u001b[0;32m      5\u001b[0m cv2\u001b[38;5;241m.\u001b[39mdestroyAllWindows()\n",
      "\u001b[1;31mKeyboardInterrupt\u001b[0m: "
     ]
    }
   ],
   "source": [
    "# 이미지 출력\n",
    "cv2.imshow('Output Image', img_input)\n",
    "\n",
    "cv2.waitKey(0)\n",
    "cv2.destroyAllWindows()"
   ]
  }
 ],
 "metadata": {
  "kernelspec": {
   "display_name": "Python 3 (ipykernel)",
   "language": "python",
   "name": "python3"
  },
  "language_info": {
   "codemirror_mode": {
    "name": "ipython",
    "version": 3
   },
   "file_extension": ".py",
   "mimetype": "text/x-python",
   "name": "python",
   "nbconvert_exporter": "python",
   "pygments_lexer": "ipython3",
   "version": "3.9.12"
  },
  "toc": {
   "base_numbering": 1,
   "nav_menu": {},
   "number_sections": false,
   "sideBar": true,
   "skip_h1_title": false,
   "title_cell": "Table of Contents",
   "title_sidebar": "Contents",
   "toc_cell": false,
   "toc_position": {},
   "toc_section_display": true,
   "toc_window_display": false
  },
  "varInspector": {
   "cols": {
    "lenName": 16,
    "lenType": 16,
    "lenVar": 40
   },
   "kernels_config": {
    "python": {
     "delete_cmd_postfix": "",
     "delete_cmd_prefix": "del ",
     "library": "var_list.py",
     "varRefreshCmd": "print(var_dic_list())"
    },
    "r": {
     "delete_cmd_postfix": ") ",
     "delete_cmd_prefix": "rm(",
     "library": "var_list.r",
     "varRefreshCmd": "cat(var_dic_list()) "
    }
   },
   "types_to_exclude": [
    "module",
    "function",
    "builtin_function_or_method",
    "instance",
    "_Feature"
   ],
   "window_display": false
  }
 },
 "nbformat": 4,
 "nbformat_minor": 5
}
